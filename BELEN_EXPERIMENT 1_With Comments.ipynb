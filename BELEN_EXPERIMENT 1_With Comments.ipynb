{
 "cells": [
  {
   "cell_type": "markdown",
   "id": "362ae0f3-0e12-41bc-a29c-ebd4f54fa7c2",
   "metadata": {},
   "source": [
    "#EXPERIMENT 1 - Introduction to Python Programming"
   ]
  },
  {
   "cell_type": "markdown",
   "id": "9acc9028-16ba-4fbc-874d-b32258003714",
   "metadata": {},
   "source": [
    "ALPHABET SOUP PROBLEM"
   ]
  },
  {
   "cell_type": "code",
   "execution_count": 2,
   "id": "33918766-151d-4fd0-8dd6-d1415f7d7a20",
   "metadata": {},
   "outputs": [],
   "source": [
    "# Making a function to sort the letters of a word in alphabetical order\n",
    "def alphabet_soup(text):\n",
    "    # sorted() takes the input string and returns a list of characters sorted alphabetically\n",
    "    sorted_letters = sorted(text)\n",
    "\n",
    "     # join() combines the sorted list back into a single string\n",
    "    print (\"\".join(sorted_letters))"
   ]
  },
  {
   "cell_type": "code",
   "execution_count": 3,
   "id": "77725e4f-7795-4341-88e5-1d96e1e9991f",
   "metadata": {},
   "outputs": [
    {
     "name": "stdout",
     "output_type": "stream",
     "text": [
      "011Paggimmnorr\n"
     ]
    }
   ],
   "source": [
    "alphabet_soup(\"Programming101\")  # Example with numbers and letters"
   ]
  },
  {
   "cell_type": "code",
   "execution_count": 4,
   "id": "51397c63-e709-4f5a-a3db-9e64aaee1ed4",
   "metadata": {},
   "outputs": [
    {
     "name": "stdout",
     "output_type": "stream",
     "text": [
      "AABCadeeeehiiijllmnnorst\n"
     ]
    }
   ],
   "source": [
    "alphabet_soup(\"AmielChristianAjedoBelen\") # Example with mixed upper/lowercase"
   ]
  },
  {
   "cell_type": "code",
   "execution_count": 5,
   "id": "b0e5046c-9158-438c-b365-1953fe5cbfe2",
   "metadata": {},
   "outputs": [
    {
     "name": "stdout",
     "output_type": "stream",
     "text": [
      "3NTbeemrstu\n"
     ]
    }
   ],
   "source": [
    "alphabet_soup(\"TestNumber3\") "
   ]
  },
  {
   "cell_type": "markdown",
   "id": "a78be005-de0f-4353-875e-3d388b4f40a5",
   "metadata": {},
   "source": [
    "EMOTICON PROBLEM"
   ]
  },
  {
   "cell_type": "code",
   "execution_count": 6,
   "id": "346dda8c-b295-4ed2-84ba-1512a523d758",
   "metadata": {},
   "outputs": [],
   "source": [
    "# Making a function to replace words describing emotions with their corresponding emojis\n",
    "def emotify(emote):\n",
    "    # Convert the input to lowercase so it works regardless of capitalization\n",
    "    emote = emote.lower()\n",
    "\n",
    "    # Replace specific words with their emoji equivalents\n",
    "    e = emote.replace(\"smile\", \":)\")\n",
    "    e = e.replace(\"grin\", \":D\")\n",
    "    e = e.replace(\"sad\", \":(\")\n",
    "    e = e.replace(\"mad\", \">:(\")\n",
    "    \n",
    "     # Print the final transformed string\n",
    "    print (\"Emotified:\", e)"
   ]
  },
  {
   "cell_type": "code",
   "execution_count": 7,
   "id": "b2d7924b-9efc-4055-be20-3d3a2e68bb52",
   "metadata": {},
   "outputs": [
    {
     "name": "stdout",
     "output_type": "stream",
     "text": [
      "Emotified: that show always makes me :)\n"
     ]
    }
   ],
   "source": [
    "emotify(\"That show always makes me SMILE\")  # 'SMILE' → :)"
   ]
  },
  {
   "cell_type": "code",
   "execution_count": 8,
   "id": "bbe9829e-31e4-45a0-a792-1bf05256a58d",
   "metadata": {},
   "outputs": [
    {
     "name": "stdout",
     "output_type": "stream",
     "text": [
      "Emotified: i always feel :( when i don't have high grades\n"
     ]
    }
   ],
   "source": [
    "emotify(\"I always feel sad when I don't have high grades\")  # 'sad' → :("
   ]
  },
  {
   "cell_type": "code",
   "execution_count": 9,
   "id": "4135fbf8-9ccc-43ad-8071-59a114e3229f",
   "metadata": {},
   "outputs": [
    {
     "name": "stdout",
     "output_type": "stream",
     "text": [
      "Emotified: bo burnham's jokes never fail at making me :D\n"
     ]
    }
   ],
   "source": [
    "emotify(\"Bo Burnham's jokes never fail at making me grin\") # 'grin' → :D"
   ]
  },
  {
   "cell_type": "code",
   "execution_count": 10,
   "id": "a051601a-c769-422e-a995-76b11d8c2e66",
   "metadata": {},
   "outputs": [
    {
     "name": "stdout",
     "output_type": "stream",
     "text": [
      "Emotified: every time i get terrible teammates in marvel rivals, i get unreasonably >:(. especially when they refuse to switch to a more useful character and then blame everyone else.\n"
     ]
    }
   ],
   "source": [
    "emotify(\"Every time I get terrible teammates in Marvel Rivals, I get unreasonably mad. Especially when they refuse to switch to a more useful character and then blame everyone else.\") # 'mad' → >:("
   ]
  },
  {
   "cell_type": "markdown",
   "id": "945c538b-7421-4a5c-83d8-9bc5015ebaf3",
   "metadata": {},
   "source": [
    "UNPACKING LIST PROBLEM"
   ]
  },
  {
   "cell_type": "code",
   "execution_count": 11,
   "id": "cc857f25-7ada-430d-9630-c1f43492549d",
   "metadata": {},
   "outputs": [
    {
     "name": "stdout",
     "output_type": "stream",
     "text": [
      "first: 6\n",
      "middle: [86, 12, 0, 43]\n",
      "last: 4\n"
     ]
    }
   ],
   "source": [
    "# Example list of numbers\n",
    "writeyourcodehere = [6, 86, 12, 0, 43, 4]\n",
    "\n",
    "# Unpacking:\n",
    "# - 'first' gets the first element\n",
    "# - 'last' gets the last element\n",
    "# - '*middle' collects everything in between into a list\n",
    "first, *middle, last = writeyourcodehere\n",
    "\n",
    "# Print the unpacked parts\n",
    "print(\"first:\", first) # 1\n",
    "print(\"middle:\", middle) # [2, 3, 4, 5]\n",
    "print(\"last:\", last) # 6"
   ]
  },
  {
   "cell_type": "code",
   "execution_count": null,
   "id": "b6988f6c-899b-4731-b31d-aeace8206442",
   "metadata": {},
   "outputs": [],
   "source": []
  },
  {
   "cell_type": "code",
   "execution_count": null,
   "id": "cd4a0352-ce49-4337-9b91-d6f7ed23370d",
   "metadata": {},
   "outputs": [],
   "source": []
  },
  {
   "cell_type": "code",
   "execution_count": null,
   "id": "fe1f6b14-79a3-4a9d-afc7-76637f9ab03f",
   "metadata": {},
   "outputs": [],
   "source": []
  },
  {
   "cell_type": "code",
   "execution_count": null,
   "id": "79cbebcc-fef4-423b-b266-a25b27504de8",
   "metadata": {},
   "outputs": [],
   "source": []
  }
 ],
 "metadata": {
  "kernelspec": {
   "display_name": "Python [conda env:base] *",
   "language": "python",
   "name": "conda-base-py"
  },
  "language_info": {
   "codemirror_mode": {
    "name": "ipython",
    "version": 3
   },
   "file_extension": ".py",
   "mimetype": "text/x-python",
   "name": "python",
   "nbconvert_exporter": "python",
   "pygments_lexer": "ipython3",
   "version": "3.13.5"
  }
 },
 "nbformat": 4,
 "nbformat_minor": 5
}
