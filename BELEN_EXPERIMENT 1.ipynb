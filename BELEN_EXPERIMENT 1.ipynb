{
 "cells": [
  {
   "cell_type": "markdown",
   "id": "362ae0f3-0e12-41bc-a29c-ebd4f54fa7c2",
   "metadata": {},
   "source": [
    "#EXPERIMENT 1 - Introduction to Python Programming"
   ]
  },
  {
   "cell_type": "markdown",
   "id": "9acc9028-16ba-4fbc-874d-b32258003714",
   "metadata": {},
   "source": [
    "ALPHABET SOUP PROBLEM"
   ]
  },
  {
   "cell_type": "code",
   "execution_count": 26,
   "id": "33918766-151d-4fd0-8dd6-d1415f7d7a20",
   "metadata": {},
   "outputs": [],
   "source": [
    "def alphabet_soup(text):\n",
    "    sorted_letters = sorted(text)\n",
    "    print (\"\".join(sorted_letters))"
   ]
  },
  {
   "cell_type": "code",
   "execution_count": 27,
   "id": "77725e4f-7795-4341-88e5-1d96e1e9991f",
   "metadata": {},
   "outputs": [
    {
     "name": "stdout",
     "output_type": "stream",
     "text": [
      "011Paggimmnorr\n"
     ]
    }
   ],
   "source": [
    "alphabet_soup(\"Programming101\")"
   ]
  },
  {
   "cell_type": "code",
   "execution_count": 28,
   "id": "51397c63-e709-4f5a-a3db-9e64aaee1ed4",
   "metadata": {},
   "outputs": [
    {
     "name": "stdout",
     "output_type": "stream",
     "text": [
      "AABCadeeeehiiijllmnnorst\n"
     ]
    }
   ],
   "source": [
    "alphabet_soup(\"AmielChristianAjedoBelen\")"
   ]
  },
  {
   "cell_type": "code",
   "execution_count": 29,
   "id": "b0e5046c-9158-438c-b365-1953fe5cbfe2",
   "metadata": {},
   "outputs": [
    {
     "name": "stdout",
     "output_type": "stream",
     "text": [
      "3NTbeemrstu\n"
     ]
    }
   ],
   "source": [
    "alphabet_soup(\"TestNumber3\")"
   ]
  },
  {
   "cell_type": "markdown",
   "id": "a78be005-de0f-4353-875e-3d388b4f40a5",
   "metadata": {},
   "source": [
    "EMOTICON PROBLEM"
   ]
  },
  {
   "cell_type": "code",
   "execution_count": 44,
   "id": "346dda8c-b295-4ed2-84ba-1512a523d758",
   "metadata": {},
   "outputs": [],
   "source": [
    "def emotify(emote):\n",
    "    emote = emote.lower()\n",
    "    e = emote.replace(\"smile\", \":)\")\n",
    "    e = e.replace(\"grin\", \":D\")\n",
    "    e = e.replace(\"sad\", \":(\")\n",
    "    e = e.replace(\"mad\", \">:(\")\n",
    "    print (\"Emotified:\", e)"
   ]
  },
  {
   "cell_type": "code",
   "execution_count": 37,
   "id": "b2d7924b-9efc-4055-be20-3d3a2e68bb52",
   "metadata": {},
   "outputs": [
    {
     "name": "stdout",
     "output_type": "stream",
     "text": [
      "Emotified: that show always makes me :)\n"
     ]
    }
   ],
   "source": [
    "emotify(\"That show always makes me SMILE\")"
   ]
  },
  {
   "cell_type": "code",
   "execution_count": 38,
   "id": "bbe9829e-31e4-45a0-a792-1bf05256a58d",
   "metadata": {},
   "outputs": [
    {
     "name": "stdout",
     "output_type": "stream",
     "text": [
      "Emotified: i always feel :( when i don't have high grades\n"
     ]
    }
   ],
   "source": [
    "emotify(\"I always feel sad when I don't have high grades\")"
   ]
  },
  {
   "cell_type": "code",
   "execution_count": 39,
   "id": "4135fbf8-9ccc-43ad-8071-59a114e3229f",
   "metadata": {},
   "outputs": [
    {
     "name": "stdout",
     "output_type": "stream",
     "text": [
      "Emotified: bo burnham's jokes never fail at making me :D\n"
     ]
    }
   ],
   "source": [
    "emotify(\"Bo Burnham's jokes never fail at making me grin\")"
   ]
  },
  {
   "cell_type": "code",
   "execution_count": 40,
   "id": "a051601a-c769-422e-a995-76b11d8c2e66",
   "metadata": {},
   "outputs": [
    {
     "name": "stdout",
     "output_type": "stream",
     "text": [
      "Emotified: every time i get terrible teammates in marvel rivals, i get unreasonably >:(. especially when they refuse to switch to a more useful character and then blame everyone else.\n"
     ]
    }
   ],
   "source": [
    "emotify(\"Every time I get terrible teammates in Marvel Rivals, I get unreasonably mad. Especially when they refuse to switch to a more useful character and then blame everyone else.\")"
   ]
  },
  {
   "cell_type": "markdown",
   "id": "945c538b-7421-4a5c-83d8-9bc5015ebaf3",
   "metadata": {},
   "source": [
    "UNPACKING LIST PROBLEM"
   ]
  },
  {
   "cell_type": "code",
   "execution_count": 45,
   "id": "cc857f25-7ada-430d-9630-c1f43492549d",
   "metadata": {},
   "outputs": [
    {
     "name": "stdout",
     "output_type": "stream",
     "text": [
      "first: 1\n",
      "middle: [2, 3, 4, 5]\n",
      "last: 6\n"
     ]
    }
   ],
   "source": [
    "writeyourcodehere = [1, 2, 3, 4, 5, 6]\n",
    "first, *middle, last = writeyourcodehere\n",
    "print(\"first:\", first)\n",
    "print(\"middle:\", middle)\n",
    "print(\"last:\", last)"
   ]
  },
  {
   "cell_type": "code",
   "execution_count": null,
   "id": "b6988f6c-899b-4731-b31d-aeace8206442",
   "metadata": {},
   "outputs": [],
   "source": []
  },
  {
   "cell_type": "code",
   "execution_count": null,
   "id": "cd4a0352-ce49-4337-9b91-d6f7ed23370d",
   "metadata": {},
   "outputs": [],
   "source": []
  },
  {
   "cell_type": "code",
   "execution_count": null,
   "id": "fe1f6b14-79a3-4a9d-afc7-76637f9ab03f",
   "metadata": {},
   "outputs": [],
   "source": []
  },
  {
   "cell_type": "code",
   "execution_count": null,
   "id": "79cbebcc-fef4-423b-b266-a25b27504de8",
   "metadata": {},
   "outputs": [],
   "source": []
  }
 ],
 "metadata": {
  "kernelspec": {
   "display_name": "Python [conda env:base] *",
   "language": "python",
   "name": "conda-base-py"
  },
  "language_info": {
   "codemirror_mode": {
    "name": "ipython",
    "version": 3
   },
   "file_extension": ".py",
   "mimetype": "text/x-python",
   "name": "python",
   "nbconvert_exporter": "python",
   "pygments_lexer": "ipython3",
   "version": "3.13.5"
  }
 },
 "nbformat": 4,
 "nbformat_minor": 5
}
